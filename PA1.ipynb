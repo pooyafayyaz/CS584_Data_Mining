{
 "cells": [
  {
   "cell_type": "markdown",
   "metadata": {},
   "source": [
    "## Import modules"
   ]
  },
  {
   "cell_type": "code",
   "execution_count": 1,
   "metadata": {},
   "outputs": [],
   "source": [
    "\n",
    "import numpy as np\n",
    "import pandas as pd\n",
    "from sklearn.feature_extraction.text import TfidfVectorizer\n",
    "from sklearn.model_selection import train_test_split\n",
    "import KNN as knn\n",
    "from nltk.corpus import stopwords \n",
    "from nltk.tokenize import word_tokenize \n",
    "from nltk.stem.snowball import SnowballStemmer\n",
    "from num2words import num2words\n",
    "from nltk.stem import WordNetLemmatizer \n",
    "import nltk\n"
   ]
  },
  {
   "cell_type": "markdown",
   "metadata": {},
   "source": [
    "## Load data"
   ]
  },
  {
   "cell_type": "code",
   "execution_count": 2,
   "metadata": {},
   "outputs": [
    {
     "name": "stdout",
     "output_type": "stream",
     "text": [
      "train data size:  (14999, 2)\n",
      "test data size:  (15000, 1)\n"
     ]
    }
   ],
   "source": [
    "data = pd.read_csv('train.txt', sep=\"\\t\", header=None).iloc[1:]\n",
    "# test_data = pd.read_csv('test.txt', sep=\"\\n\")\n",
    "test_data = np.loadtxt('test.txt',dtype='str', delimiter=\"\\t\")\n",
    "test_data = pd.DataFrame(data=test_data, columns=[\"review\"]) \n",
    "data.columns = [\"sentiment\", \"review\"]\n",
    "print(\"train data size: \",data.shape)\n",
    "print(\"test data size: \",test_data.shape)"
   ]
  },
  {
   "cell_type": "markdown",
   "metadata": {},
   "source": [
    "## Data at a glance"
   ]
  },
  {
   "cell_type": "code",
   "execution_count": 3,
   "metadata": {
    "scrolled": true
   },
   "outputs": [
    {
     "data": {
      "text/plain": [
       "\"One of the other reviewers has mentioned that after watching just 1 Oz episode you'll be hooked. They are right, as this is exactly what happened with me.<br /><br />The first thing that struck me about Oz was its brutality and unflinching scenes of violence, which set in right from the word GO. Trust me, this is not a show for the faint hearted or timid. This show pulls no punches with regards to drugs, sex or violence. Its is hardcore, in the classic use of the word.<br /><br />It is called OZ as that is the nickname given to the Oswald Maximum Security State Penitentary. It focuses mainly on Emerald City, an experimental section of the prison where all the cells have glass fronts and face inwards, so privacy is not high on the agenda. Em City is home to many..Aryans, Muslims, gangstas, Latinos, Christians, Italians, Irish and more....so scuffles, death stares, dodgy dealings and shady agreements are never far away.<br /><br />I would say the main appeal of the show is due to the fact that it goes where other shows wouldn't dare. Forget pretty pictures painted for mainstream audiences, forget charm, forget romance...OZ doesn't mess around. The first episode I ever saw struck me as so nasty it was surreal, I couldn't say I was ready for it, but as I watched more, I developed a taste for Oz, and got accustomed to the high levels of graphic violence. Not just violence, but injustice (crooked guards who'll be sold out for a nickel, inmates who'll kill on order and get away with it, well mannered, middle class inmates being turned into prison bitches due to their lack of street skills or prison experience) Watching Oz, you may become comfortable with what is uncomfortable viewing....thats if you can get in touch with your darker side.\""
      ]
     },
     "execution_count": 3,
     "metadata": {},
     "output_type": "execute_result"
    }
   ],
   "source": [
    "data[\"review\"].iloc[0]"
   ]
  },
  {
   "cell_type": "markdown",
   "metadata": {},
   "source": [
    "## Data diversity"
   ]
  },
  {
   "cell_type": "code",
   "execution_count": 4,
   "metadata": {},
   "outputs": [
    {
     "data": {
      "text/plain": [
       "-1    7609\n",
       "1     7390\n",
       "Name: sentiment, dtype: int64"
      ]
     },
     "execution_count": 4,
     "metadata": {},
     "output_type": "execute_result"
    }
   ],
   "source": [
    "data.sentiment.value_counts()"
   ]
  },
  {
   "cell_type": "markdown",
   "metadata": {},
   "source": [
    "## Remove Stop Words"
   ]
  },
  {
   "cell_type": "code",
   "execution_count": 5,
   "metadata": {
    "scrolled": false
   },
   "outputs": [],
   "source": [
    "\n",
    "stop = stopwords.words('english')\n",
    "data['review'] = data['review'].apply(lambda x: ' '.join([word for word in x.split() if word not in (stop)]))\n",
    "test_data['review'] = test_data['review'].apply(lambda x: ' '.join([word for word in x.split() if word not in (stop)]))\n",
    "\n"
   ]
  },
  {
   "cell_type": "code",
   "execution_count": 6,
   "metadata": {},
   "outputs": [
    {
     "data": {
      "text/plain": [
       "\"One reviewers mentioned watching 1 Oz episode hooked. They right, exactly happened me.<br /><br />The first thing struck Oz brutality unflinching scenes violence, set right word GO. Trust me, show faint hearted timid. This show pulls punches regards drugs, sex violence. Its hardcore, classic use word.<br /><br />It called OZ nickname given Oswald Maximum Security State Penitentary. It focuses mainly Emerald City, experimental section prison cells glass fronts face inwards, privacy high agenda. Em City home many..Aryans, Muslims, gangstas, Latinos, Christians, Italians, Irish more....so scuffles, death stares, dodgy dealings shady agreements never far away.<br /><br />I would say main appeal show due fact goes shows dare. Forget pretty pictures painted mainstream audiences, forget charm, forget romance...OZ mess around. The first episode I ever saw struck nasty surreal, I say I ready it, I watched more, I developed taste Oz, got accustomed high levels graphic violence. Not violence, injustice (crooked guards who'll sold nickel, inmates who'll kill order get away it, well mannered, middle class inmates turned prison bitches due lack street skills prison experience) Watching Oz, may become comfortable uncomfortable viewing....thats get touch darker side.\""
      ]
     },
     "execution_count": 6,
     "metadata": {},
     "output_type": "execute_result"
    }
   ],
   "source": [
    "data[\"review\"].iloc[0]"
   ]
  },
  {
   "cell_type": "markdown",
   "metadata": {},
   "source": [
    "## Lemmatisation"
   ]
  },
  {
   "cell_type": "code",
   "execution_count": 7,
   "metadata": {},
   "outputs": [],
   "source": [
    "lemmatizer = WordNetLemmatizer() \n",
    "data['review'] = data['review'].apply(lambda x: ' '.join([lemmatizer.lemmatize(word) for word in x.split()]))\n",
    "test_data['review'] = test_data['review'].apply(lambda x: ' '.join([lemmatizer.lemmatize(word) for word in x.split()]))\n"
   ]
  },
  {
   "cell_type": "code",
   "execution_count": 8,
   "metadata": {},
   "outputs": [
    {
     "data": {
      "text/plain": [
       "\"One reviewer mentioned watching 1 Oz episode hooked. They right, exactly happened me.<br /><br />The first thing struck Oz brutality unflinching scene violence, set right word GO. Trust me, show faint hearted timid. This show pull punch regard drugs, sex violence. Its hardcore, classic use word.<br /><br />It called OZ nickname given Oswald Maximum Security State Penitentary. It focus mainly Emerald City, experimental section prison cell glass front face inwards, privacy high agenda. Em City home many..Aryans, Muslims, gangstas, Latinos, Christians, Italians, Irish more....so scuffles, death stares, dodgy dealing shady agreement never far away.<br /><br />I would say main appeal show due fact go show dare. Forget pretty picture painted mainstream audiences, forget charm, forget romance...OZ mess around. The first episode I ever saw struck nasty surreal, I say I ready it, I watched more, I developed taste Oz, got accustomed high level graphic violence. Not violence, injustice (crooked guard who'll sold nickel, inmate who'll kill order get away it, well mannered, middle class inmate turned prison bitch due lack street skill prison experience) Watching Oz, may become comfortable uncomfortable viewing....thats get touch darker side.\""
      ]
     },
     "execution_count": 8,
     "metadata": {},
     "output_type": "execute_result"
    }
   ],
   "source": [
    "data[\"review\"].iloc[0]"
   ]
  },
  {
   "cell_type": "markdown",
   "metadata": {},
   "source": [
    "## Stemming"
   ]
  },
  {
   "cell_type": "code",
   "execution_count": 9,
   "metadata": {},
   "outputs": [],
   "source": [
    "stemmer = SnowballStemmer(\"english\") # Stem every word.\n",
    "data['review'] = data['review'].apply(lambda x: ' '.join([stemmer.stem(word) for word in x.split()]))\n",
    "test_data['review'] = test_data['review'].apply(lambda x: ' '.join([stemmer.stem(word) for word in x.split()]))\n"
   ]
  },
  {
   "cell_type": "code",
   "execution_count": 10,
   "metadata": {},
   "outputs": [
    {
     "data": {
      "text/plain": [
       "\"one review mention watch 1 oz episod hooked. they right, exact happen me.<br /><br />the first thing struck oz brutal unflinch scene violence, set right word go. trust me, show faint heart timid. this show pull punch regard drugs, sex violence. it hardcore, classic use word.<br /><br />it call oz nicknam given oswald maximum secur state penitentary. it focus main emerald city, experiment section prison cell glass front face inwards, privaci high agenda. em citi home many..aryans, muslims, gangstas, latinos, christians, italians, irish more....so scuffles, death stares, dodgi deal shadi agreement never far away.<br /><br />i would say main appeal show due fact go show dare. forget pretti pictur paint mainstream audiences, forget charm, forget romance...oz mess around. the first episod i ever saw struck nasti surreal, i say i readi it, i watch more, i develop tast oz, got accustom high level graphic violence. not violence, injustic (crook guard who'll sold nickel, inmat who'll kill order get away it, well mannered, middl class inmat turn prison bitch due lack street skill prison experience) watch oz, may becom comfort uncomfort viewing....that get touch darker side.\""
      ]
     },
     "execution_count": 10,
     "metadata": {},
     "output_type": "execute_result"
    }
   ],
   "source": [
    "data[\"review\"].iloc[0]"
   ]
  },
  {
   "cell_type": "markdown",
   "metadata": {},
   "source": [
    "## Remove using Regex"
   ]
  },
  {
   "cell_type": "code",
   "execution_count": 11,
   "metadata": {},
   "outputs": [],
   "source": [
    "data[\"review\"] = data['review'].str.replace('[^\\w\\s]','')\n",
    "test_data[\"review\"] = test_data['review'].str.replace('[^\\w\\s]','')"
   ]
  },
  {
   "cell_type": "code",
   "execution_count": 12,
   "metadata": {},
   "outputs": [
    {
     "data": {
      "text/plain": [
       "'one review mention watch 1 oz episod hooked they right exact happen mebr br the first thing struck oz brutal unflinch scene violence set right word go trust me show faint heart timid this show pull punch regard drugs sex violence it hardcore classic use wordbr br it call oz nicknam given oswald maximum secur state penitentary it focus main emerald city experiment section prison cell glass front face inwards privaci high agenda em citi home manyaryans muslims gangstas latinos christians italians irish moreso scuffles death stares dodgi deal shadi agreement never far awaybr br i would say main appeal show due fact go show dare forget pretti pictur paint mainstream audiences forget charm forget romanceoz mess around the first episod i ever saw struck nasti surreal i say i readi it i watch more i develop tast oz got accustom high level graphic violence not violence injustic crook guard wholl sold nickel inmat wholl kill order get away it well mannered middl class inmat turn prison bitch due lack street skill prison experience watch oz may becom comfort uncomfort viewingthat get touch darker side'"
      ]
     },
     "execution_count": 12,
     "metadata": {},
     "output_type": "execute_result"
    }
   ],
   "source": [
    "data[\"review\"].iloc[0]"
   ]
  },
  {
   "cell_type": "markdown",
   "metadata": {},
   "source": [
    "## Remove numbers "
   ]
  },
  {
   "cell_type": "code",
   "execution_count": 13,
   "metadata": {},
   "outputs": [],
   "source": [
    "data[\"review\"] = data['review'].apply(lambda x: ' '.join([word for word in x.split() if not word.isnumeric()]))\n",
    "test_data[\"review\"] = test_data['review'].apply(lambda x: ' '.join([word for word in x.split() if not word.isnumeric()]))"
   ]
  },
  {
   "cell_type": "code",
   "execution_count": 14,
   "metadata": {},
   "outputs": [
    {
     "data": {
      "text/plain": [
       "'one review mention watch oz episod hooked they right exact happen mebr br the first thing struck oz brutal unflinch scene violence set right word go trust me show faint heart timid this show pull punch regard drugs sex violence it hardcore classic use wordbr br it call oz nicknam given oswald maximum secur state penitentary it focus main emerald city experiment section prison cell glass front face inwards privaci high agenda em citi home manyaryans muslims gangstas latinos christians italians irish moreso scuffles death stares dodgi deal shadi agreement never far awaybr br i would say main appeal show due fact go show dare forget pretti pictur paint mainstream audiences forget charm forget romanceoz mess around the first episod i ever saw struck nasti surreal i say i readi it i watch more i develop tast oz got accustom high level graphic violence not violence injustic crook guard wholl sold nickel inmat wholl kill order get away it well mannered middl class inmat turn prison bitch due lack street skill prison experience watch oz may becom comfort uncomfort viewingthat get touch darker side'"
      ]
     },
     "execution_count": 14,
     "metadata": {},
     "output_type": "execute_result"
    }
   ],
   "source": [
    "data[\"review\"].iloc[0]"
   ]
  },
  {
   "cell_type": "markdown",
   "metadata": {},
   "source": [
    "## Remove min words"
   ]
  },
  {
   "cell_type": "code",
   "execution_count": 15,
   "metadata": {},
   "outputs": [],
   "source": [
    "data[\"review\"] = data['review'].apply(lambda x: ' '.join([word for word in x.split() if (len(word)>2)]))\n",
    "test_data[\"review\"] = test_data['review'].apply(lambda x: ' '.join([word for word in x.split() if (len(word)>2)]))"
   ]
  },
  {
   "cell_type": "code",
   "execution_count": 16,
   "metadata": {},
   "outputs": [
    {
     "data": {
      "text/plain": [
       "'one review mention watch episod hooked they right exact happen mebr the first thing struck brutal unflinch scene violence set right word trust show faint heart timid this show pull punch regard drugs sex violence hardcore classic use wordbr call nicknam given oswald maximum secur state penitentary focus main emerald city experiment section prison cell glass front face inwards privaci high agenda citi home manyaryans muslims gangstas latinos christians italians irish moreso scuffles death stares dodgi deal shadi agreement never far awaybr would say main appeal show due fact show dare forget pretti pictur paint mainstream audiences forget charm forget romanceoz mess around the first episod ever saw struck nasti surreal say readi watch more develop tast got accustom high level graphic violence not violence injustic crook guard wholl sold nickel inmat wholl kill order get away well mannered middl class inmat turn prison bitch due lack street skill prison experience watch may becom comfort uncomfort viewingthat get touch darker side'"
      ]
     },
     "execution_count": 16,
     "metadata": {},
     "output_type": "execute_result"
    }
   ],
   "source": [
    "data[\"review\"].iloc[0]"
   ]
  },
  {
   "cell_type": "markdown",
   "metadata": {},
   "source": [
    "## Lets do tf-idf"
   ]
  },
  {
   "cell_type": "code",
   "execution_count": 17,
   "metadata": {},
   "outputs": [
    {
     "name": "stdout",
     "output_type": "stream",
     "text": [
      "(29999,)\n"
     ]
    }
   ],
   "source": [
    "v = TfidfVectorizer(use_idf=True)\n",
    "\n",
    "bigdata = pd.concat([data['review'], test_data['review']], ignore_index=True, sort=False)\n",
    "print(bigdata.shape)\n",
    "\n",
    "tfIdf = v.fit_transform(bigdata)\n",
    "df = pd.DataFrame(tfIdf.T.toarray(), index=v.get_feature_names())\n",
    "\n",
    "\n",
    "# df = df.sort_values('TF-IDF', ascending=False)\n",
    "\n"
   ]
  },
  {
   "cell_type": "code",
   "execution_count": 18,
   "metadata": {},
   "outputs": [],
   "source": [
    "# print(v.get_feature_names())\n",
    "# df = df.sort_values(v.get_feature_names(),ascending=False)\n"
   ]
  },
  {
   "cell_type": "markdown",
   "metadata": {},
   "source": [
    "## Split the data-set "
   ]
  },
  {
   "cell_type": "code",
   "execution_count": 19,
   "metadata": {},
   "outputs": [],
   "source": [
    "x = df.T[:14999]\n",
    "y = data['sentiment']\n",
    "# X_train, X_test, y_train, y_test = train_test_split(x, np.asarray(y), test_size=0.23, random_state=42)\n"
   ]
  },
  {
   "cell_type": "markdown",
   "metadata": {},
   "source": [
    "## Lets Use the KNN(Implemented from Scratch)"
   ]
  },
  {
   "cell_type": "code",
   "execution_count": 20,
   "metadata": {},
   "outputs": [],
   "source": [
    "# model = knn.KNN(25,X_train,y_train.reshape(-1,1))"
   ]
  },
  {
   "cell_type": "code",
   "execution_count": 21,
   "metadata": {},
   "outputs": [],
   "source": [
    "# print(X_train.shape)\n",
    "# print(X_test.shape)"
   ]
  },
  {
   "cell_type": "code",
   "execution_count": 22,
   "metadata": {
    "scrolled": true
   },
   "outputs": [],
   "source": [
    "# Y_pred = model.forward(X_test)"
   ]
  },
  {
   "cell_type": "code",
   "execution_count": 23,
   "metadata": {},
   "outputs": [],
   "source": [
    "# from sklearn.metrics import accuracy_score\n",
    "# print(accuracy_score(y_test,Y_pred))"
   ]
  },
  {
   "cell_type": "markdown",
   "metadata": {},
   "source": [
    "## Train on whole set"
   ]
  },
  {
   "cell_type": "code",
   "execution_count": null,
   "metadata": {},
   "outputs": [],
   "source": [
    "model = knn.KNN(25,x,np.asarray(y).reshape(-1,1))\n",
    "Y_pred = model.forward(df[15000:])\n"
   ]
  },
  {
   "cell_type": "markdown",
   "metadata": {},
   "source": [
    "## Save model output"
   ]
  },
  {
   "cell_type": "code",
   "execution_count": null,
   "metadata": {},
   "outputs": [],
   "source": [
    "\n",
    "with open('output.txt', mode='wt', encoding='utf-8') as myfile:\n",
    "    myfile.write('\\n'.join(results[0] for results in Y_pred))\n",
    "\n"
   ]
  },
  {
   "cell_type": "code",
   "execution_count": null,
   "metadata": {},
   "outputs": [],
   "source": []
  }
 ],
 "metadata": {
  "kernelspec": {
   "display_name": "Python 3",
   "language": "python",
   "name": "python3"
  },
  "language_info": {
   "codemirror_mode": {
    "name": "ipython",
    "version": 3
   },
   "file_extension": ".py",
   "mimetype": "text/x-python",
   "name": "python",
   "nbconvert_exporter": "python",
   "pygments_lexer": "ipython3",
   "version": "3.7.3"
  }
 },
 "nbformat": 4,
 "nbformat_minor": 4
}
